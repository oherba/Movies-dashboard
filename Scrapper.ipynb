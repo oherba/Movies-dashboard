{
 "cells": [
  {
   "attachments": {},
   "cell_type": "markdown",
   "metadata": {
    "_uuid": "f07075e99eb14b03be308e3156fc8a8a02d87cdd"
   },
   "source": [
    "scrapping top 250 movies by meta scores on IMDB using Beautiful soup\n",
    "\n",
    "The final dataframe will contains the below elements:\n",
    "\n",
    "* `name` - title of the movie, \n",
    "* `year` - release year of the movie, \n",
    "* `rating` - user score of the movie, \n",
    "* `m_score` - meta score of the movie, \n",
    "* `vote` - number of votes."
   ]
  },
  {
   "attachments": {},
   "cell_type": "markdown",
   "metadata": {
    "_uuid": "9b1eef50248c5263a75621ab52a9f1af0b996b83"
   },
   "source": [
    "First, we import the requried packages"
   ]
  },
  {
   "cell_type": "code",
   "execution_count": 1,
   "metadata": {
    "_uuid": "dda98d2e9ae4faf439deaa1592f4844f8baac1cd"
   },
   "outputs": [],
   "source": [
    "import bs4\n",
    "import requests\n",
    "import time\n",
    "import random as ran\n",
    "import sys\n",
    "import pandas as pd"
   ]
  },
  {
   "attachments": {},
   "cell_type": "markdown",
   "metadata": {
    "_uuid": "b36f51a41f37b2e68a4149a42eaa64b9b8ae097c"
   },
   "source": [
    "Since scraping the data is an iterative process, we define separate functions for each purpose.\n",
    "\n",
    "First we are going to define a function which will extract the targeted elements from a 'movie block list'"
   ]
  },
  {
   "cell_type": "code",
   "execution_count": 31,
   "metadata": {
    "_uuid": "548ab4039c3a6e419ddbdd2bc1c93c577800c5d6"
   },
   "outputs": [],
   "source": [
    "def scrape_mblock(movie_block):\n",
    "    \n",
    "    movieb_data ={}\n",
    "  \n",
    "    try:\n",
    "        movieb_data['name'] = movie_block.find('a').get_text() # Name of the movie\n",
    "    except:\n",
    "        movieb_data['name'] = None\n",
    "\n",
    "    try:    \n",
    "        movieb_data['year'] = str(movie_block.find('span',{'class': 'lister-item-year'}).contents[0][1:-1]) # Release year\n",
    "    except:\n",
    "        movieb_data['year'] = None\n",
    "\n",
    "    try:\n",
    "        #movieb_data['rating'] = float(movie_block.find('div',{'class':'inline-block ratings-imdb-rating'}).get('data-value')) #rating\n",
    "        movieb_data['rating'] = float(movie_block.find('span',{'class':'metascore'}).get_text()) #rating\n",
    "    except:\n",
    "        movieb_data['rating'] = None\n",
    "\n",
    "    try:\n",
    "        movieb_data['m_score'] = float(movie_block.find('span',{'class':'metascore favorable'}).contents[0].strip()) #meta score\n",
    "    except:\n",
    "        movieb_data['m_score'] = None\n",
    "\n",
    "    try:\n",
    "        movieb_data['votes'] = int(movie_block.find('span',{'name':'nv'}).get('data-value')) # votes\n",
    "    except:\n",
    "        movieb_data['votes'] = None\n",
    "\n",
    "    return movieb_data\n",
    "    "
   ]
  },
  {
   "attachments": {},
   "cell_type": "markdown",
   "metadata": {
    "_uuid": "f28bd9e7abe441563183dfd4707d1a1fb7163fc5"
   },
   "source": [
    "Then we create the below function to scrape all movie blocks within a single search result page"
   ]
  },
  {
   "cell_type": "code",
   "execution_count": 32,
   "metadata": {
    "_uuid": "d65617221159bccad080a325a574aa901c94a451"
   },
   "outputs": [],
   "source": [
    "def scrape_m_page(movie_blocks):\n",
    "    \n",
    "    page_movie_data = []\n",
    "    num_blocks = len(movie_blocks)\n",
    "    \n",
    "    for block in range(num_blocks):\n",
    "        page_movie_data.append(scrape_mblock(movie_blocks[block]))\n",
    "    \n",
    "    return page_movie_data"
   ]
  },
  {
   "attachments": {},
   "cell_type": "markdown",
   "metadata": {
    "_uuid": "b96947baac69667a01b4a851932d3c227003c8cc"
   },
   "source": [
    "Now we built functions to extract all movie data from a single page.\n",
    "\n",
    "Next function will be created to iterate the above made function through all pages of the search result untill we scrape data for the targeted number of movies"
   ]
  },
  {
   "cell_type": "code",
   "execution_count": 28,
   "metadata": {
    "_uuid": "c5656aa65b04b82a57a1caf8ff68e27a88ef5e21"
   },
   "outputs": [],
   "source": [
    "def scrape_this(link,t_count):\n",
    "    \n",
    "    #from IPython.core.debugger import set_trace\n",
    "\n",
    "    base_url = link\n",
    "    target = t_count\n",
    "    \n",
    "    current_mcount_start = 0\n",
    "    current_mcount_end = 0\n",
    "    remaining_mcount = target - current_mcount_end \n",
    "    \n",
    "    new_page_number = 1\n",
    "    \n",
    "    movie_data = []\n",
    "    \n",
    "    \n",
    "    while remaining_mcount > 0:\n",
    "\n",
    "        url = base_url + str(new_page_number)\n",
    "        \n",
    "        #set_trace()\n",
    "        \n",
    "        source = requests.get(url).text\n",
    "        soup = bs4.BeautifulSoup(source,'html.parser')\n",
    "        \n",
    "        movie_blocks = soup.findAll('div',{'class':'lister-item-content'})\n",
    "        \n",
    "        movie_data.extend(scrape_m_page(movie_blocks))   \n",
    "        \n",
    "        #current_mcount_start = int(soup.find(\"div\", {\"class\":\"nav\"}).find(\"div\", {\"class\": \"desc\"}).contents[1].get_text().split(\"-\")[0])\n",
    "        \n",
    "        current_mcount_start = int(soup.find(\"div\", {\"class\":\"footer filmosearch\"}).find(\"span\", {\"class\": \"pagination-range\"}).get_text().split(\"of\")[0].split(\"-\")[0].strip())\n",
    "        print(current_mcount_start)\n",
    "        \n",
    "        #current_mcount_end = int(soup.find(\"div\", {\"class\":\"nav\"}).find(\"div\", {\"class\": \"desc\"}).contents[1].get_text().split(\"-\")[1].split(\" \")[0])\n",
    "\n",
    "        current_mcount_end = int(soup.find(\"span\", {\"class\": \"pagination-range\"}).get_text().split(\"of\")[0].split(\"-\")[1].strip())\n",
    "\n",
    "        remaining_mcount = target - current_mcount_end\n",
    "        \n",
    "        print('\\r' + \"currently scraping movies from: \" + str(current_mcount_start) + \" - \"+str(current_mcount_end), \"| remaining count: \" + str(remaining_mcount), flush=True, end =\"\")\n",
    "        \n",
    "        new_page_number += 1\n",
    "        \n",
    "        time.sleep(ran.randint(0, 10))\n",
    "    \n",
    "    return movie_data\n",
    "    \n",
    "    "
   ]
  },
  {
   "attachments": {},
   "cell_type": "markdown",
   "metadata": {
    "_uuid": "36432981ed2585a52a2e97314d403c6a0f6529fb"
   },
   "source": [
    "Finally, we put together all functions created above to scrape the top 150 movies on the list"
   ]
  },
  {
   "cell_type": "code",
   "execution_count": 33,
   "metadata": {
    "_uuid": "efca380155228307997551c37fe3f10c13b7e008"
   },
   "outputs": [
    {
     "name": "stdout",
     "output_type": "stream",
     "text": [
      "1\n",
      "currently scraping movies from: 1 - 100 | remaining count: 50101\n",
      "List of top 150 movies:es from: 101 - 200 | remaining count: -50\n",
      "\n"
     ]
    },
    {
     "data": {
      "text/html": [
       "<div>\n",
       "<style scoped>\n",
       "    .dataframe tbody tr th:only-of-type {\n",
       "        vertical-align: middle;\n",
       "    }\n",
       "\n",
       "    .dataframe tbody tr th {\n",
       "        vertical-align: top;\n",
       "    }\n",
       "\n",
       "    .dataframe thead th {\n",
       "        text-align: right;\n",
       "    }\n",
       "</style>\n",
       "<table border=\"1\" class=\"dataframe\">\n",
       "  <thead>\n",
       "    <tr style=\"text-align: right;\">\n",
       "      <th></th>\n",
       "      <th>name</th>\n",
       "      <th>year</th>\n",
       "      <th>rating</th>\n",
       "      <th>m_score</th>\n",
       "      <th>votes</th>\n",
       "    </tr>\n",
       "  </thead>\n",
       "  <tbody>\n",
       "    <tr>\n",
       "      <th>0</th>\n",
       "      <td>The Godfather</td>\n",
       "      <td>1972</td>\n",
       "      <td>100.0</td>\n",
       "      <td>100.0</td>\n",
       "      <td>1908453</td>\n",
       "    </tr>\n",
       "    <tr>\n",
       "      <th>1</th>\n",
       "      <td>Casablanca</td>\n",
       "      <td>1942</td>\n",
       "      <td>100.0</td>\n",
       "      <td>100.0</td>\n",
       "      <td>583285</td>\n",
       "    </tr>\n",
       "    <tr>\n",
       "      <th>2</th>\n",
       "      <td>Rear Window</td>\n",
       "      <td>1954</td>\n",
       "      <td>100.0</td>\n",
       "      <td>100.0</td>\n",
       "      <td>501749</td>\n",
       "    </tr>\n",
       "    <tr>\n",
       "      <th>3</th>\n",
       "      <td>Citizen Kane</td>\n",
       "      <td>1941</td>\n",
       "      <td>100.0</td>\n",
       "      <td>100.0</td>\n",
       "      <td>450527</td>\n",
       "    </tr>\n",
       "    <tr>\n",
       "      <th>4</th>\n",
       "      <td>Vertigo</td>\n",
       "      <td>1958</td>\n",
       "      <td>100.0</td>\n",
       "      <td>100.0</td>\n",
       "      <td>410772</td>\n",
       "    </tr>\n",
       "    <tr>\n",
       "      <th>...</th>\n",
       "      <td>...</td>\n",
       "      <td>...</td>\n",
       "      <td>...</td>\n",
       "      <td>...</td>\n",
       "      <td>...</td>\n",
       "    </tr>\n",
       "    <tr>\n",
       "      <th>195</th>\n",
       "      <td>V for Vendetta</td>\n",
       "      <td>2005</td>\n",
       "      <td>62.0</td>\n",
       "      <td>62.0</td>\n",
       "      <td>1140432</td>\n",
       "    </tr>\n",
       "    <tr>\n",
       "      <th>196</th>\n",
       "      <td>The Help</td>\n",
       "      <td>2011</td>\n",
       "      <td>62.0</td>\n",
       "      <td>62.0</td>\n",
       "      <td>472265</td>\n",
       "    </tr>\n",
       "    <tr>\n",
       "      <th>197</th>\n",
       "      <td>The Green Mile</td>\n",
       "      <td>1999</td>\n",
       "      <td>61.0</td>\n",
       "      <td>61.0</td>\n",
       "      <td>1334502</td>\n",
       "    </tr>\n",
       "    <tr>\n",
       "      <th>198</th>\n",
       "      <td>Judgment at Nuremberg</td>\n",
       "      <td>1961</td>\n",
       "      <td>60.0</td>\n",
       "      <td>NaN</td>\n",
       "      <td>79920</td>\n",
       "    </tr>\n",
       "    <tr>\n",
       "      <th>199</th>\n",
       "      <td>La vita è bella</td>\n",
       "      <td>1997</td>\n",
       "      <td>59.0</td>\n",
       "      <td>NaN</td>\n",
       "      <td>710857</td>\n",
       "    </tr>\n",
       "  </tbody>\n",
       "</table>\n",
       "<p>200 rows × 5 columns</p>\n",
       "</div>"
      ],
      "text/plain": [
       "                      name  year  rating  m_score    votes\n",
       "0            The Godfather  1972   100.0    100.0  1908453\n",
       "1               Casablanca  1942   100.0    100.0   583285\n",
       "2              Rear Window  1954   100.0    100.0   501749\n",
       "3             Citizen Kane  1941   100.0    100.0   450527\n",
       "4                  Vertigo  1958   100.0    100.0   410772\n",
       "..                     ...   ...     ...      ...      ...\n",
       "195         V for Vendetta  2005    62.0     62.0  1140432\n",
       "196               The Help  2011    62.0     62.0   472265\n",
       "197         The Green Mile  1999    61.0     61.0  1334502\n",
       "198  Judgment at Nuremberg  1961    60.0      NaN    79920\n",
       "199        La vita è bella  1997    59.0      NaN   710857\n",
       "\n",
       "[200 rows x 5 columns]"
      ]
     },
     "execution_count": 33,
     "metadata": {},
     "output_type": "execute_result"
    }
   ],
   "source": [
    "base_scraping_link = \"https://www.imdb.com/list/ls041970465/?sort=list_order,asc&st_dt=&mode=detail&page=\"\n",
    "\n",
    "top_movies = 150 #input(\"How many movies do you want to scrape?\")\n",
    "films = []\n",
    "\n",
    "films = scrape_this(base_scraping_link,int(top_movies))\n",
    "\n",
    "print('\\r'+\"List of top \" + str(top_movies) +\" movies:\" + \"\\n\", end=\"\\n\")\n",
    "pd.DataFrame(films)"
   ]
  },
  {
   "cell_type": "code",
   "execution_count": 30,
   "metadata": {},
   "outputs": [],
   "source": [
    "pd.DataFrame(films).to_csv(\"films.csv\", index=False)"
   ]
  }
 ],
 "metadata": {
  "kernel_info": {
   "name": "python3"
  },
  "kernelspec": {
   "display_name": "Python 3 (ipykernel)",
   "language": "python",
   "name": "python3"
  },
  "language_info": {
   "codemirror_mode": {
    "name": "ipython",
    "version": 3
   },
   "file_extension": ".py",
   "mimetype": "text/x-python",
   "name": "python",
   "nbconvert_exporter": "python",
   "pygments_lexer": "ipython3",
   "version": "3.11.1"
  },
  "nteract": {
   "version": "0.12.3"
  }
 },
 "nbformat": 4,
 "nbformat_minor": 1
}
